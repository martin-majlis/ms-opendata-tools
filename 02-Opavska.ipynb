{
 "cells": [
  {
   "cell_type": "markdown",
   "metadata": {},
   "source": [
    "# Analyza Opavska\n",
    "\n",
    "Abych si usetril praci, tak vyuzivam prikazy ze:\n",
    "* analyzy vetru - https://github.com/martin-majlis/ms-opendata-tools/blob/master/01-Analyza-Vetru.ipynb\n",
    "* simulace skoly - https://github.com/martin-majlis/ms-opendata-simulation/blob/master/Analysis.ipynb"
   ]
  },
  {
   "cell_type": "code",
   "execution_count": null,
   "metadata": {},
   "outputs": [],
   "source": [
    "# import balicku\n",
    "import pandas as pd\n",
    "import numpy as np\n",
    "import matplotlib.pyplot as plt\n",
    "from scipy import stats"
   ]
  },
  {
   "cell_type": "code",
   "execution_count": null,
   "metadata": {},
   "outputs": [],
   "source": [
    "# nactu predpripravena data\n",
    "data_raw = pd.read_csv('opavska_sensor.csv')"
   ]
  },
  {
   "cell_type": "code",
   "execution_count": null,
   "metadata": {},
   "outputs": [],
   "source": [
    "# podivam se, jake sloupce jsou dostupne\n",
    "data_raw.columns"
   ]
  },
  {
   "cell_type": "code",
   "execution_count": null,
   "metadata": {},
   "outputs": [],
   "source": [
    "# Ted si vyberu sloupecky, ktere vypadaji uzitecne\n",
    "COLUMNS_OPAVSKA = [\n",
    "    'TS', \n",
    "    'TS_H',\n",
    "    '0004A30B001EF8A4-Wind_Direction', \n",
    "    '0004A30B001EF8A4-Wind_Speed',\n",
    "    '0004A30B001EFD5D-Soil_Moisture',\n",
    "    '0004A30B001F3A88-Events_counter',\n",
    "    '0004A30B001F3A88-Magnet_status',\n",
    "    '0004A30B001F5607-Humidity',\n",
    "    '0004A30B001F5607-Temperature',\n",
    "    '0004A30B001F6CED-Noise'    \n",
    "]\n",
    "data_opavska = data_raw[COLUMNS_OPAVSKA]\n",
    "data_opavska.describe()"
   ]
  },
  {
   "cell_type": "code",
   "execution_count": null,
   "metadata": {},
   "outputs": [],
   "source": [
    "# Z analyzy vetru vime, ze senzor pro mereni vetru je rozbity\n",
    "# Ted si vyrobime grafy pro vsechny hodnoty. \n",
    "# Protoze maji ruzne jednotky, nema smysl je davat do jednoho grafu.\n",
    "# Bud bych mohl nekolikrat zkopirovat prikaz pro vygenerovani grafu:\n",
    "data_opavska['0004A30B001EF8A4-Wind_Direction'].plot(title='0004A30B001EF8A4-Wind_Direction')\n",
    "plt.show()\n",
    "data_opavska['0004A30B001EF8A4-Wind_Speed'].plot(title='0004A30B001EF8A4-Wind_Speed')\n",
    "plt.show()\n",
    "data_opavska['0004A30B001EFD5D-Soil_Moisture'].plot(title='0004A30B001EFD5D-Soil_Moisture')\n",
    "plt.show()\n"
   ]
  },
  {
   "cell_type": "code",
   "execution_count": null,
   "metadata": {},
   "outputs": [],
   "source": [
    "# Nebo muzu udelat smycku pro vsechny sloupecky\n",
    "for col in COLUMNS_OPAVSKA:\n",
    "    if col in ['TS', 'TS_H']:\n",
    "        continue\n",
    "    data_opavska[col].plot(title=col)\n",
    "    plt.show()"
   ]
  },
  {
   "cell_type": "code",
   "execution_count": null,
   "metadata": {},
   "outputs": [],
   "source": [
    "data_opavska"
   ]
  },
  {
   "cell_type": "code",
   "execution_count": null,
   "metadata": {},
   "outputs": [],
   "source": [
    "# Ted opet vyradime cast dat, kdy udaje nebyly spolehlive.\n",
    "# Podle grafu to vypada, ze to zacalo fungovat, kdyz teplota stoupla nad 5 stupnu\n",
    "COLUMNS_TEMP = [\n",
    "    'TS_H', \n",
    "    '0004A30B001EFD5D-Soil_Moisture',\n",
    "    '0004A30B001F5607-Humidity',\n",
    "    '0004A30B001F5607-Temperature',\n",
    "    '0004A30B001F6CED-Noise'\n",
    "]\n",
    "data_valid_temp = data_opavska[data_opavska['0004A30B001F5607-Temperature'] > 5][COLUMNS_TEMP]"
   ]
  },
  {
   "cell_type": "code",
   "execution_count": null,
   "metadata": {},
   "outputs": [],
   "source": [
    "# Ted se opet muzeme podivat na jejich vlastnosti\n",
    "data_valid_temp.describe()"
   ]
  },
  {
   "cell_type": "code",
   "execution_count": null,
   "metadata": {},
   "outputs": [],
   "source": [
    "# Nebo muzu udelat smycku pro vsechny sloupecky\n",
    "for col in COLUMNS_TEMP:\n",
    "    if col in ['TS', 'TS_H']:\n",
    "        continue\n",
    "    data_valid_temp[col].plot(title=col)\n",
    "    plt.show()"
   ]
  },
  {
   "cell_type": "code",
   "execution_count": null,
   "metadata": {},
   "outputs": [],
   "source": [
    "# A ted se muzeme podivat s cim koreluje vnitrni teplota\n",
    "data_valid_temp.corr()['0004A30B001F5607-Temperature'].sort_values()"
   ]
  },
  {
   "cell_type": "code",
   "execution_count": null,
   "metadata": {},
   "outputs": [],
   "source": [
    "# Take se muzeme podivat, jaka je korelace mezi vlhosti vzduchy a ostanimi hodnotami\n",
    "data_valid_temp.corr()['0004A30B001F5607-Humidity'].sort_values()"
   ]
  }
 ],
 "metadata": {
  "kernelspec": {
   "display_name": "Python 3",
   "language": "python",
   "name": "python3"
  },
  "language_info": {
   "codemirror_mode": {
    "name": "ipython",
    "version": 3
   },
   "file_extension": ".py",
   "mimetype": "text/x-python",
   "name": "python",
   "nbconvert_exporter": "python",
   "pygments_lexer": "ipython3",
   "version": "3.5.2"
  }
 },
 "nbformat": 4,
 "nbformat_minor": 2
}
